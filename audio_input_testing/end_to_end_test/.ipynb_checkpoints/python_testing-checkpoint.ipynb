{
 "cells": [
  {
   "cell_type": "code",
   "execution_count": null,
   "id": "00fc88dc",
   "metadata": {},
   "outputs": [],
   "source": [
    "import pyaudio\n",
    "import numpy as np\n",
    "import matplotlib.pyplot as plt\n",
    "from matplotlib.animation import FuncAnimation\n",
    "\n",
    "# Initialize PyAudio\n",
    "pa = pyaudio.PyAudio()\n",
    "\n",
    "# Constants\n",
    "FORMAT = pyaudio.paInt16\n",
    "CHANNELS = 1\n",
    "RATE = 44100\n",
    "CHUNK_SIZE = 1024\n",
    "\n",
    "# Create a figure for plotting\n",
    "fig, ax = plt.subplots()\n",
    "x = np.arange(0, 2 * CHUNK_SIZE, 2)\n",
    "line, = ax.plot(x, np.random.rand(CHUNK_SIZE), lw=2)\n",
    "ax.set_ylim(0, 5000)\n",
    "ax.set_xlim(0, CHUNK_SIZE)\n",
    "\n",
    "# Open an audio stream\n",
    "stream = pa.open(format=FORMAT,\n",
    "                 channels=CHANNELS,\n",
    "                 rate=RATE,\n",
    "                 input=True,\n",
    "                 frames_per_buffer=CHUNK_SIZE,\n",
    "                 input_device_index=1)\n",
    "\n",
    "# Function to update the plot\n",
    "def update(data):\n",
    "    line.set_ydata(data)\n",
    "    return line,\n",
    "\n",
    "# Function to read and display audio data\n",
    "def audio_stream():\n",
    "    try:\n",
    "        while True:\n",
    "            data = np.frombuffer(stream.read(CHUNK_SIZE), dtype=np.int16)\n",
    "            yield data\n",
    "    except KeyboardInterrupt:\n",
    "        print(\"Interrupted, closing the stream...\")\n",
    "        stream.stop_stream()\n",
    "        stream.close()\n",
    "        pa.terminate()\n",
    "\n",
    "# Create an animation\n",
    "ani = FuncAnimation(fig, update, audio_stream, blit=True, interval=10)\n",
    "\n",
    "# Display the plot\n",
    "plt.show()\n"
   ]
  }
 ],
 "metadata": {
  "kernelspec": {
   "display_name": "Python 3 (ipykernel)",
   "language": "python",
   "name": "python3"
  },
  "language_info": {
   "codemirror_mode": {
    "name": "ipython",
    "version": 3
   },
   "file_extension": ".py",
   "mimetype": "text/x-python",
   "name": "python",
   "nbconvert_exporter": "python",
   "pygments_lexer": "ipython3",
   "version": "3.10.9"
  }
 },
 "nbformat": 4,
 "nbformat_minor": 5
}
